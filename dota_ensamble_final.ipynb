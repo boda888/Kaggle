{
 "cells": [
  {
   "cell_type": "code",
   "execution_count": 1,
   "metadata": {},
   "outputs": [],
   "source": [
    "import numpy as np\n",
    "import pandas as pd\n",
    "\n",
    "from sklearn.model_selection import cross_val_score\n",
    "from sklearn.metrics import mean_squared_error, r2_score\n",
    "from sklearn.model_selection import train_test_split\n",
    "from sklearn.preprocessing import RobustScaler\n",
    "from sklearn.metrics import roc_auc_score\n",
    "\n",
    "from sklearn.linear_model import LogisticRegression\n",
    "from sklearn.ensemble import GradientBoostingClassifier\n",
    "from sklearn.linear_model import LogisticRegression\n",
    "from sklearn.ensemble import RandomForestClassifier\n",
    "from sklearn.ensemble import VotingClassifier\n",
    "from sklearn import ensemble\n",
    "\n",
    "import seaborn as sns\n",
    "import math\n",
    "import matplotlib.pyplot as plt"
   ]
  },
  {
   "cell_type": "code",
   "execution_count": 2,
   "metadata": {},
   "outputs": [],
   "source": [
    "train = pd.read_csv(\"C:/Users/bodak/Desktop/features.csv\")\n",
    "test = pd.read_csv(\"C:/Users/bodak/Desktop/features_test.csv\")\n",
    "\n",
    "heroes = pd.read_csv(\"C:/Users/bodak/Desktop/data/dictionaries/heroes.csv\")\n",
    "items = pd.read_csv(\"C:/Users/bodak/Desktop/data/dictionaries/items.csv\")\n",
    "\n",
    "y = np.array(train['radiant_win'])\n",
    "index = test['match_id']"
   ]
  },
  {
   "cell_type": "code",
   "execution_count": 3,
   "metadata": {},
   "outputs": [],
   "source": [
    "#combine data\n",
    "\n",
    "na = train.shape[0]\n",
    "train = train.drop(['radiant_win'], axis = 1)\n",
    "combine = pd.concat((train, test), sort=False).reset_index(drop=True)"
   ]
  },
  {
   "cell_type": "code",
   "execution_count": 4,
   "metadata": {},
   "outputs": [],
   "source": [
    "#data cleaning\n",
    "\n",
    "combine = combine.drop(['tower_status_radiant'], axis = 1)\n",
    "combine = combine.drop(['tower_status_dire'], axis = 1)\n",
    "combine = combine.drop(['barracks_status_radiant'], axis = 1)\n",
    "combine = combine.drop(['barracks_status_dire'], axis = 1)\n",
    "combine = combine.drop(['duration'], axis = 1)\n",
    "combine = combine.drop(['lobby_type'], axis = 1)\n",
    "combine = combine.drop(['start_time'], axis = 1)\n",
    "combine = combine.drop(['match_id'], axis = 1)\n"
   ]
  },
  {
   "cell_type": "code",
   "execution_count": 5,
   "metadata": {},
   "outputs": [],
   "source": [
    "#filling missing values\n",
    "\n",
    "combine['first_blood_player2'] = combine['first_blood_player2'].fillna(-1)\n",
    "combine['radiant_flying_courier_time'] = combine['radiant_flying_courier_time'].fillna(0)\n",
    "combine['dire_flying_courier_time'] = combine['dire_flying_courier_time'].fillna(0)\n",
    "combine['first_blood_player1'] = combine['first_blood_player1'].fillna(-1)\n",
    "combine['first_blood_team'] = combine['first_blood_team'].fillna(-1)\n",
    "combine['first_blood_time'] = combine['first_blood_time'].fillna(-1)\n",
    "combine['dire_bottle_time'] = combine['dire_bottle_time'].fillna(0)\n",
    "combine['radiant_bottle_time'] = combine['radiant_bottle_time'].fillna(0)\n",
    "combine['radiant_first_ward_time'] = combine['radiant_first_ward_time'].fillna(0)\n",
    "combine['dire_first_ward_time'] = combine['dire_first_ward_time'].fillna(0)\n",
    "combine['radiant_courier_time'] = combine['radiant_courier_time'].fillna(0)\n",
    "combine['dire_courier_time'] = combine['dire_courier_time'].fillna(0)"
   ]
  },
  {
   "cell_type": "code",
   "execution_count": 6,
   "metadata": {},
   "outputs": [],
   "source": [
    "#feature engineering\n",
    "\n",
    "combine['r_gold'] = combine['r1_gold'] + combine['r2_gold'] + combine['r3_gold'] + combine['r4_gold'] + combine['r5_gold']\n",
    "combine['d_gold'] = combine['d1_gold'] + combine['d2_gold'] + combine['d3_gold'] + combine['d4_gold'] + combine['d5_gold']\n",
    "combine['diff_gold'] = combine['r_gold'] - combine['d_gold']\n",
    "\n",
    "combine['r_xp'] = combine['r1_xp'] + combine['r2_xp'] + combine['r3_xp'] + combine['r4_xp'] + combine['r5_xp']\n",
    "combine['d_xp'] = combine['d1_xp'] + combine['d2_xp'] + combine['d3_xp'] + combine['d4_xp'] + combine['d5_xp']\n",
    "combine['diff_xp'] = combine['r_xp'] - combine['d_xp']\n",
    "\n",
    "combine['r_lh'] = combine['r1_lh'] + combine['r2_lh'] + combine['r3_lh'] + combine['r4_lh'] + combine['r5_lh']\n",
    "combine['d_lh'] = combine['d1_lh'] + combine['d2_lh'] + combine['d3_lh'] + combine['d4_lh'] + combine['d5_lh']\n",
    "combine['diff_lh'] = combine['r_lh'] - combine['d_lh']\n",
    "\n",
    "combine['r_deaths'] = combine['r1_deaths'] + combine['r2_deaths'] + combine['r3_deaths'] + combine['r4_deaths'] + combine['r5_deaths']\n",
    "combine['d_deaths'] = combine['d1_deaths'] + combine['d2_deaths'] + combine['d3_deaths'] + combine['d4_deaths'] + combine['d5_deaths']\n",
    "combine['diff_deaths'] = combine['r_deaths'] - combine['d_deaths']\n",
    "\n",
    "combine['r_kills'] = combine['r1_kills'] + combine['r2_kills'] + combine['r3_kills'] + combine['r4_kills'] + combine['r5_kills']\n",
    "combine['d_kills'] = combine['d1_kills'] + combine['d2_kills'] + combine['d3_kills'] + combine['d4_kills'] + combine['d5_kills']\n",
    "combine['diff_kills'] = combine['r_kills'] - combine['d_kills']\n",
    "\n",
    "combine['diff_boots'] = combine['radiant_boots_count'] - combine['dire_boots_count']\n",
    "\n",
    "combine['diff_tpscroll'] = combine['radiant_tpscroll_count'] - combine['dire_tpscroll_count']\n",
    "\n",
    "combine['diff_bottle'] = combine['radiant_bottle_time'] - combine['dire_bottle_time']\n",
    "\n",
    "combine['late_r_courier'] = pd.Series(combine['radiant_courier_time'] > 150).astype('int')\n",
    "combine['early_r_courier'] = pd.Series(combine['radiant_courier_time'] < 150).astype('int')\n",
    "combine['no_r_courier'] = pd.Series(combine['radiant_courier_time'] == 0).astype('int')\n",
    "combine['late_d_courier'] = pd.Series(combine['dire_courier_time'] > 150).astype('int')\n",
    "combine['early_d_courier'] = pd.Series(combine['dire_courier_time'] < 150).astype('int')\n",
    "combine['no_d_courier'] = pd.Series(combine['dire_courier_time'] == 0).astype('int')"
   ]
  },
  {
   "cell_type": "code",
   "execution_count": 7,
   "metadata": {},
   "outputs": [],
   "source": [
    "#some of features is categorical in fact. Now they are completely useless for model\n",
    "#lets fill 'hero names' and 'hero items' with the right value \n",
    "\n",
    "\n",
    "d_heroes = {}\n",
    "for i in range(len(heroes['id'])):\n",
    "    d_heroes[heroes['id'][i]] = heroes['name'][i]\n",
    "    \n",
    "d_items = {}\n",
    "for i in range(len(items['id'])):\n",
    "    d_items[items['id'][i]] = items['name'][i]\n",
    "    \n",
    "for column in combine:\n",
    "        if 'hero' in column:\n",
    "            combine[column] = combine[column].map(d_heroes)\n",
    "\n",
    "for column in combine:\n",
    "        if 'items' in column:\n",
    "            combine[column] = combine[column].map(d_items)\n",
    "            \n"
   ]
  },
  {
   "cell_type": "code",
   "execution_count": 8,
   "metadata": {},
   "outputs": [],
   "source": [
    "#now we can use get_dummies for object features that we created before\n",
    "\n",
    "combine_cat_dummies = pd.get_dummies(combine, columns=combine.columns[combine.dtypes == 'object'])"
   ]
  },
  {
   "cell_type": "code",
   "execution_count": 9,
   "metadata": {},
   "outputs": [],
   "source": [
    "#get test and train datasets from combine\n",
    "\n",
    "Train = combine_cat_dummies[:na]\n",
    "Test = combine_cat_dummies[na:]"
   ]
  },
  {
   "cell_type": "code",
   "execution_count": 10,
   "metadata": {},
   "outputs": [],
   "source": [
    "#split data\n",
    "\n",
    "x_train, x_test, y_train, y_test = train_test_split(Train, y, test_size = .3, random_state=0)"
   ]
  },
  {
   "cell_type": "code",
   "execution_count": 11,
   "metadata": {},
   "outputs": [],
   "source": [
    "#scale data\n",
    "\n",
    "scaler= RobustScaler()\n",
    "x_train = scaler.fit_transform(x_train)\n",
    "x_test = scaler.transform(x_test)\n",
    "X_test= scaler.transform(Test)"
   ]
  },
  {
   "cell_type": "code",
   "execution_count": 12,
   "metadata": {},
   "outputs": [],
   "source": [
    "#Logistic Regression works well with lots of features \n",
    "\n",
    "logit = LogisticRegression(random_state=17)"
   ]
  },
  {
   "cell_type": "code",
   "execution_count": 13,
   "metadata": {},
   "outputs": [
    {
     "data": {
      "text/plain": [
       "(114407, 1449)"
      ]
     },
     "execution_count": 13,
     "metadata": {},
     "output_type": "execute_result"
    }
   ],
   "source": [
    "combine_cat_dummies.shape"
   ]
  },
  {
   "cell_type": "code",
   "execution_count": 14,
   "metadata": {},
   "outputs": [
    {
     "name": "stderr",
     "output_type": "stream",
     "text": [
      "C:\\Users\\bodak\\Miniconda3\\lib\\site-packages\\sklearn\\linear_model\\_logistic.py:939: ConvergenceWarning: lbfgs failed to converge (status=1):\n",
      "STOP: TOTAL NO. of ITERATIONS REACHED LIMIT.\n",
      "\n",
      "Increase the number of iterations (max_iter) or scale the data as shown in:\n",
      "    https://scikit-learn.org/stable/modules/preprocessing.html.\n",
      "Please also refer to the documentation for alternative solver options:\n",
      "    https://scikit-learn.org/stable/modules/linear_model.html#logistic-regression\n",
      "  extra_warning_msg=_LOGISTIC_SOLVER_CONVERGENCE_MSG)\n"
     ]
    }
   ],
   "source": [
    "logit.fit(x_train, y_train)\n",
    "y_pred_logit = logit.predict(x_test)"
   ]
  },
  {
   "cell_type": "code",
   "execution_count": 15,
   "metadata": {},
   "outputs": [
    {
     "data": {
      "text/plain": [
       "0.6738285994678312"
      ]
     },
     "execution_count": 15,
     "metadata": {},
     "output_type": "execute_result"
    }
   ],
   "source": [
    "roc_auc_score(y_test, y_pred_logit)"
   ]
  },
  {
   "cell_type": "code",
   "execution_count": 18,
   "metadata": {},
   "outputs": [],
   "source": []
  },
  {
   "cell_type": "code",
   "execution_count": 21,
   "metadata": {},
   "outputs": [],
   "source": []
  },
  {
   "cell_type": "code",
   "execution_count": null,
   "metadata": {},
   "outputs": [],
   "source": []
  },
  {
   "cell_type": "code",
   "execution_count": 16,
   "metadata": {},
   "outputs": [],
   "source": [
    "#GradientBoostingClassifier\n",
    "\n",
    "params = {'n_estimators': 100, 'max_depth': 3, 'min_samples_split': 2,\n",
    "          'learning_rate': 0.01}\n",
    "gbr = ensemble.GradientBoostingClassifier(**params)\n",
    "gbr.fit(x_train, y_train)\n",
    "y_pred = gbr.predict(x_test)"
   ]
  },
  {
   "cell_type": "code",
   "execution_count": 17,
   "metadata": {},
   "outputs": [
    {
     "data": {
      "text/plain": [
       "0.6517981991940751"
      ]
     },
     "execution_count": 17,
     "metadata": {},
     "output_type": "execute_result"
    }
   ],
   "source": [
    "roc_auc_score(y_test, y_pred)"
   ]
  },
  {
   "cell_type": "code",
   "execution_count": 18,
   "metadata": {},
   "outputs": [],
   "source": [
    "#RandomForestClassifier\n",
    "\n",
    "forest = RandomForestClassifier(n_estimators = 1000, max_depth=4)"
   ]
  },
  {
   "cell_type": "code",
   "execution_count": 19,
   "metadata": {},
   "outputs": [
    {
     "data": {
      "text/plain": [
       "RandomForestClassifier(bootstrap=True, ccp_alpha=0.0, class_weight=None,\n",
       "                       criterion='gini', max_depth=4, max_features='auto',\n",
       "                       max_leaf_nodes=None, max_samples=None,\n",
       "                       min_impurity_decrease=0.0, min_impurity_split=None,\n",
       "                       min_samples_leaf=1, min_samples_split=2,\n",
       "                       min_weight_fraction_leaf=0.0, n_estimators=1000,\n",
       "                       n_jobs=None, oob_score=False, random_state=None,\n",
       "                       verbose=0, warm_start=False)"
      ]
     },
     "execution_count": 19,
     "metadata": {},
     "output_type": "execute_result"
    }
   ],
   "source": [
    "forest.fit(x_train, y_train)"
   ]
  },
  {
   "cell_type": "code",
   "execution_count": 20,
   "metadata": {},
   "outputs": [
    {
     "data": {
      "text/plain": [
       "0.6475112361399982"
      ]
     },
     "execution_count": 20,
     "metadata": {},
     "output_type": "execute_result"
    }
   ],
   "source": [
    "y_pred_forest = forest.predict(x_test)\n",
    "roc_auc_score(y_test, y_pred_forest)"
   ]
  },
  {
   "cell_type": "code",
   "execution_count": 49,
   "metadata": {},
   "outputs": [],
   "source": [
    "#Soft voting entails computing a weighted sum of the predicted probabilities of all models for each class.\n",
    "\n",
    "ensemble=VotingClassifier(estimators=[('Logistic Regression', logit), ('GBoosting', gbr), ('Random Forest', forest)], voting='soft')"
   ]
  },
  {
   "cell_type": "code",
   "execution_count": 50,
   "metadata": {},
   "outputs": [
    {
     "name": "stderr",
     "output_type": "stream",
     "text": [
      "C:\\Users\\bodak\\Miniconda3\\lib\\site-packages\\sklearn\\linear_model\\_logistic.py:939: ConvergenceWarning: lbfgs failed to converge (status=1):\n",
      "STOP: TOTAL NO. of ITERATIONS REACHED LIMIT.\n",
      "\n",
      "Increase the number of iterations (max_iter) or scale the data as shown in:\n",
      "    https://scikit-learn.org/stable/modules/preprocessing.html.\n",
      "Please also refer to the documentation for alternative solver options:\n",
      "    https://scikit-learn.org/stable/modules/linear_model.html#logistic-regression\n",
      "  extra_warning_msg=_LOGISTIC_SOLVER_CONVERGENCE_MSG)\n"
     ]
    },
    {
     "data": {
      "text/plain": [
       "VotingClassifier(estimators=[('Logistic Regression',\n",
       "                              LogisticRegression(C=1.0, class_weight=None,\n",
       "                                                 dual=False, fit_intercept=True,\n",
       "                                                 intercept_scaling=1,\n",
       "                                                 l1_ratio=None, max_iter=100,\n",
       "                                                 multi_class='auto',\n",
       "                                                 n_jobs=None, penalty='l2',\n",
       "                                                 random_state=17,\n",
       "                                                 solver='lbfgs', tol=0.0001,\n",
       "                                                 verbose=0, warm_start=False)),\n",
       "                             ('GBoosting',\n",
       "                              GradientBoostingClassifier(ccp_alpha=0.0,\n",
       "                                                         criterion=...\n",
       "                                                     criterion='gini',\n",
       "                                                     max_depth=4,\n",
       "                                                     max_features='auto',\n",
       "                                                     max_leaf_nodes=None,\n",
       "                                                     max_samples=None,\n",
       "                                                     min_impurity_decrease=0.0,\n",
       "                                                     min_impurity_split=None,\n",
       "                                                     min_samples_leaf=1,\n",
       "                                                     min_samples_split=2,\n",
       "                                                     min_weight_fraction_leaf=0.0,\n",
       "                                                     n_estimators=1000,\n",
       "                                                     n_jobs=None,\n",
       "                                                     oob_score=False,\n",
       "                                                     random_state=None,\n",
       "                                                     verbose=0,\n",
       "                                                     warm_start=False))],\n",
       "                 flatten_transform=True, n_jobs=None, voting='soft',\n",
       "                 weights=None)"
      ]
     },
     "execution_count": 50,
     "metadata": {},
     "output_type": "execute_result"
    }
   ],
   "source": [
    "ensemble.fit(x_train, y_train)"
   ]
  },
  {
   "cell_type": "code",
   "execution_count": 51,
   "metadata": {},
   "outputs": [],
   "source": [
    "y_pred_ens = ensemble.predict(x_test)"
   ]
  },
  {
   "cell_type": "code",
   "execution_count": 52,
   "metadata": {},
   "outputs": [
    {
     "data": {
      "text/plain": [
       "0.6714396048733009"
      ]
     },
     "execution_count": 52,
     "metadata": {},
     "output_type": "execute_result"
    }
   ],
   "source": [
    "roc_auc_score(y_test, y_pred_ens)\n",
    "\n",
    "#ensamble looks the same as Logistic Regression\n",
    "#but on the test data it showed better result"
   ]
  },
  {
   "cell_type": "code",
   "execution_count": 38,
   "metadata": {},
   "outputs": [],
   "source": [
    "y_subm_ens = ensemble.predict_proba(X_test)[:, 1]\n",
    "submission = pd.DataFrame({\n",
    "        \"match_id\": index,\n",
    "        \"radiant_win\": y_subm_ens })\n",
    "submission.to_csv('C:/Users/bodak/Desktop/my_submission.csv', index = False)"
   ]
  },
  {
   "cell_type": "code",
   "execution_count": null,
   "metadata": {},
   "outputs": [],
   "source": []
  }
 ],
 "metadata": {
  "kernelspec": {
   "display_name": "Python 3",
   "language": "python",
   "name": "python3"
  },
  "language_info": {
   "codemirror_mode": {
    "name": "ipython",
    "version": 3
   },
   "file_extension": ".py",
   "mimetype": "text/x-python",
   "name": "python",
   "nbconvert_exporter": "python",
   "pygments_lexer": "ipython3",
   "version": "3.7.3"
  }
 },
 "nbformat": 4,
 "nbformat_minor": 2
}
